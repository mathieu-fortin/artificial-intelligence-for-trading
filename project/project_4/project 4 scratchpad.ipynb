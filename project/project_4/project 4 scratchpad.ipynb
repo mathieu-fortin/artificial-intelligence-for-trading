{
 "cells": [
  {
   "cell_type": "code",
   "execution_count": 1,
   "metadata": {},
   "outputs": [],
   "source": [
    "import pandas as pd\n",
    "import numpy as np"
   ]
  },
  {
   "cell_type": "code",
   "execution_count": 2,
   "metadata": {},
   "outputs": [],
   "source": [
    "betas = pd.DataFrame(np.array([[-0.04316847, -0.05874471, -0.03433256],\n",
    "       [ 0.01955111,  0.19637679,  0.03451503],\n",
    "       [-0.01174265,  0.01398085,  0.05143999]]))\n",
    "pcas = pd.DataFrame(np.array([[ 0.0059017,-0.13077609,0.99139436],\n",
    "                              [-0.07759542,0.98836246,0.13083807],\n",
    "                              [ 0.99696746,0.07769983,0.00431461]]))"
   ]
  },
  {
   "cell_type": "code",
   "execution_count": 3,
   "metadata": {},
   "outputs": [],
   "source": [
    "data = [[0.02769242, 1.34872387, 0.23460972],\n",
    "[-0.94728692, 0.68386883, -1.23987235],\n",
    "[1.93769376, -0.48275934, 0.34957348],\n",
    "[0.23985234, 0.35897345, 0.34598734]]\n",
    "returns = pd.DataFrame(data, columns=['A', 'AAL', 'AAP'], index=['2003-08-05','2003-08-06','2003-08-07','2003-08-08'])"
   ]
  },
  {
   "cell_type": "code",
   "execution_count": 4,
   "metadata": {},
   "outputs": [
    {
     "data": {
      "text/html": [
       "<div>\n",
       "<style scoped>\n",
       "    .dataframe tbody tr th:only-of-type {\n",
       "        vertical-align: middle;\n",
       "    }\n",
       "\n",
       "    .dataframe tbody tr th {\n",
       "        vertical-align: top;\n",
       "    }\n",
       "\n",
       "    .dataframe thead th {\n",
       "        text-align: right;\n",
       "    }\n",
       "</style>\n",
       "<table border=\"1\" class=\"dataframe\">\n",
       "  <thead>\n",
       "    <tr style=\"text-align: right;\">\n",
       "      <th></th>\n",
       "      <th>0</th>\n",
       "      <th>1</th>\n",
       "      <th>2</th>\n",
       "    </tr>\n",
       "  </thead>\n",
       "  <tbody>\n",
       "    <tr>\n",
       "      <th>0</th>\n",
       "      <td>0.005902</td>\n",
       "      <td>-0.130776</td>\n",
       "      <td>0.991394</td>\n",
       "    </tr>\n",
       "    <tr>\n",
       "      <th>1</th>\n",
       "      <td>-0.077595</td>\n",
       "      <td>0.988362</td>\n",
       "      <td>0.130838</td>\n",
       "    </tr>\n",
       "    <tr>\n",
       "      <th>2</th>\n",
       "      <td>0.996967</td>\n",
       "      <td>0.077700</td>\n",
       "      <td>0.004315</td>\n",
       "    </tr>\n",
       "  </tbody>\n",
       "</table>\n",
       "</div>"
      ],
      "text/plain": [
       "          0         1         2\n",
       "0  0.005902 -0.130776  0.991394\n",
       "1 -0.077595  0.988362  0.130838\n",
       "2  0.996967  0.077700  0.004315"
      ]
     },
     "execution_count": 4,
     "metadata": {},
     "output_type": "execute_result"
    }
   ],
   "source": [
    "pcas"
   ]
  },
  {
   "cell_type": "code",
   "execution_count": 5,
   "metadata": {},
   "outputs": [
    {
     "data": {
      "text/html": [
       "<div>\n",
       "<style scoped>\n",
       "    .dataframe tbody tr th:only-of-type {\n",
       "        vertical-align: middle;\n",
       "    }\n",
       "\n",
       "    .dataframe tbody tr th {\n",
       "        vertical-align: top;\n",
       "    }\n",
       "\n",
       "    .dataframe thead th {\n",
       "        text-align: right;\n",
       "    }\n",
       "</style>\n",
       "<table border=\"1\" class=\"dataframe\">\n",
       "  <thead>\n",
       "    <tr style=\"text-align: right;\">\n",
       "      <th></th>\n",
       "      <th>A</th>\n",
       "      <th>AAL</th>\n",
       "      <th>AAP</th>\n",
       "    </tr>\n",
       "  </thead>\n",
       "  <tbody>\n",
       "    <tr>\n",
       "      <th>2003-08-05</th>\n",
       "      <td>0.027692</td>\n",
       "      <td>1.348724</td>\n",
       "      <td>0.234610</td>\n",
       "    </tr>\n",
       "    <tr>\n",
       "      <th>2003-08-06</th>\n",
       "      <td>-0.947287</td>\n",
       "      <td>0.683869</td>\n",
       "      <td>-1.239872</td>\n",
       "    </tr>\n",
       "    <tr>\n",
       "      <th>2003-08-07</th>\n",
       "      <td>1.937694</td>\n",
       "      <td>-0.482759</td>\n",
       "      <td>0.349573</td>\n",
       "    </tr>\n",
       "    <tr>\n",
       "      <th>2003-08-08</th>\n",
       "      <td>0.239852</td>\n",
       "      <td>0.358973</td>\n",
       "      <td>0.345987</td>\n",
       "    </tr>\n",
       "  </tbody>\n",
       "</table>\n",
       "</div>"
      ],
      "text/plain": [
       "                   A       AAL       AAP\n",
       "2003-08-05  0.027692  1.348724  0.234610\n",
       "2003-08-06 -0.947287  0.683869 -1.239872\n",
       "2003-08-07  1.937694 -0.482759  0.349573\n",
       "2003-08-08  0.239852  0.358973  0.345987"
      ]
     },
     "execution_count": 5,
     "metadata": {},
     "output_type": "execute_result"
    }
   ],
   "source": [
    "returns"
   ]
  },
  {
   "cell_type": "code",
   "execution_count": 7,
   "metadata": {},
   "outputs": [
    {
     "data": {
      "text/html": [
       "<div>\n",
       "<style scoped>\n",
       "    .dataframe tbody tr th:only-of-type {\n",
       "        vertical-align: middle;\n",
       "    }\n",
       "\n",
       "    .dataframe tbody tr th {\n",
       "        vertical-align: top;\n",
       "    }\n",
       "\n",
       "    .dataframe thead th {\n",
       "        text-align: right;\n",
       "    }\n",
       "</style>\n",
       "<table border=\"1\" class=\"dataframe\">\n",
       "  <thead>\n",
       "    <tr style=\"text-align: right;\">\n",
       "      <th></th>\n",
       "      <th>A</th>\n",
       "      <th>AAL</th>\n",
       "      <th>AAP</th>\n",
       "    </tr>\n",
       "  </thead>\n",
       "  <tbody>\n",
       "    <tr>\n",
       "      <th>2003-08-05</th>\n",
       "      <td>-0.495033</td>\n",
       "      <td>1.453324</td>\n",
       "      <td>-0.089806</td>\n",
       "    </tr>\n",
       "    <tr>\n",
       "      <th>2003-08-06</th>\n",
       "      <td>-1.875633</td>\n",
       "      <td>0.678941</td>\n",
       "      <td>-1.119850</td>\n",
       "    </tr>\n",
       "    <tr>\n",
       "      <th>2003-08-07</th>\n",
       "      <td>-0.130272</td>\n",
       "      <td>-0.490011</td>\n",
       "      <td>1.672593</td>\n",
       "    </tr>\n",
       "    <tr>\n",
       "      <th>2003-08-08</th>\n",
       "      <td>-0.253926</td>\n",
       "      <td>0.473201</td>\n",
       "      <td>0.045287</td>\n",
       "    </tr>\n",
       "  </tbody>\n",
       "</table>\n",
       "</div>"
      ],
      "text/plain": [
       "                   A       AAL       AAP\n",
       "2003-08-05 -0.495033  1.453324 -0.089806\n",
       "2003-08-06 -1.875633  0.678941 -1.119850\n",
       "2003-08-07 -0.130272 -0.490011  1.672593\n",
       "2003-08-08 -0.253926  0.473201  0.045287"
      ]
     },
     "execution_count": 7,
     "metadata": {},
     "output_type": "execute_result"
    }
   ],
   "source": [
    "output = np.array([[-0.49503261, 1.45332369, -0.08980631],\n",
    "                  [-1.87563271, 0.67894147, -1.11984992],\n",
    "                  [-0.13027172, -0.49001128, 1.67259298],\n",
    "                  [-0.25392567, 0.47320133, 0.04528734]])\n",
    "output = pd.DataFrame(output, index=returns.index, columns=returns.columns)\n",
    "output"
   ]
  },
  {
   "cell_type": "code",
   "execution_count": 8,
   "metadata": {},
   "outputs": [
    {
     "data": {
      "text/html": [
       "<div>\n",
       "<style scoped>\n",
       "    .dataframe tbody tr th:only-of-type {\n",
       "        vertical-align: middle;\n",
       "    }\n",
       "\n",
       "    .dataframe tbody tr th {\n",
       "        vertical-align: top;\n",
       "    }\n",
       "\n",
       "    .dataframe thead th {\n",
       "        text-align: right;\n",
       "    }\n",
       "</style>\n",
       "<table border=\"1\" class=\"dataframe\">\n",
       "  <thead>\n",
       "    <tr style=\"text-align: right;\">\n",
       "      <th></th>\n",
       "      <th>A</th>\n",
       "      <th>AAL</th>\n",
       "      <th>AAP</th>\n",
       "    </tr>\n",
       "  </thead>\n",
       "  <tbody>\n",
       "    <tr>\n",
       "      <th>A</th>\n",
       "      <td>0.022725</td>\n",
       "      <td>0.000000</td>\n",
       "      <td>0.000000</td>\n",
       "    </tr>\n",
       "    <tr>\n",
       "      <th>AAL</th>\n",
       "      <td>0.000000</td>\n",
       "      <td>0.051901</td>\n",
       "      <td>0.000000</td>\n",
       "    </tr>\n",
       "    <tr>\n",
       "      <th>AAP</th>\n",
       "      <td>0.000000</td>\n",
       "      <td>-0.490011</td>\n",
       "      <td>0.054312</td>\n",
       "    </tr>\n",
       "  </tbody>\n",
       "</table>\n",
       "</div>"
      ],
      "text/plain": [
       "            A       AAL       AAP\n",
       "A    0.022725  0.000000  0.000000\n",
       "AAL  0.000000  0.051901  0.000000\n",
       "AAP  0.000000 -0.490011  0.054312"
      ]
     },
     "execution_count": 8,
     "metadata": {},
     "output_type": "execute_result"
    }
   ],
   "source": [
    "cov_matrix = np.array([[0.02272535,0.00000000,0.00000000],\n",
    "                     [0.00000000,0.05190083,0.00000000],\n",
    "                     [0.00000000,-0.49001128,0.05431181]])\n",
    "columns = ['A', 'AAL', 'AAP']\n",
    "cov_matrix = pd.DataFrame(cov_matrix, index=columns, columns=columns)\n",
    "cov_matrix"
   ]
  },
  {
   "cell_type": "code",
   "execution_count": 9,
   "metadata": {},
   "outputs": [
    {
     "data": {
      "text/plain": [
       "array([0.02272535, 0.05190083, 0.05431181])"
      ]
     },
     "execution_count": 9,
     "metadata": {},
     "output_type": "execute_result"
    }
   ],
   "source": [
    "np.diag(cov_matrix)"
   ]
  },
  {
   "cell_type": "code",
   "execution_count": 10,
   "metadata": {},
   "outputs": [
    {
     "data": {
      "text/html": [
       "<div>\n",
       "<style scoped>\n",
       "    .dataframe tbody tr th:only-of-type {\n",
       "        vertical-align: middle;\n",
       "    }\n",
       "\n",
       "    .dataframe tbody tr th {\n",
       "        vertical-align: top;\n",
       "    }\n",
       "\n",
       "    .dataframe thead th {\n",
       "        text-align: right;\n",
       "    }\n",
       "</style>\n",
       "<table border=\"1\" class=\"dataframe\">\n",
       "  <thead>\n",
       "    <tr style=\"text-align: right;\">\n",
       "      <th></th>\n",
       "      <th>A</th>\n",
       "      <th>AAL</th>\n",
       "      <th>AAP</th>\n",
       "    </tr>\n",
       "  </thead>\n",
       "  <tbody>\n",
       "    <tr>\n",
       "      <th>2003-08-05</th>\n",
       "      <td>0.000629</td>\n",
       "      <td>0.070000</td>\n",
       "      <td>0.012742</td>\n",
       "    </tr>\n",
       "    <tr>\n",
       "      <th>2003-08-06</th>\n",
       "      <td>-0.021527</td>\n",
       "      <td>0.035493</td>\n",
       "      <td>-0.067340</td>\n",
       "    </tr>\n",
       "    <tr>\n",
       "      <th>2003-08-07</th>\n",
       "      <td>0.044035</td>\n",
       "      <td>-0.025056</td>\n",
       "      <td>0.018986</td>\n",
       "    </tr>\n",
       "    <tr>\n",
       "      <th>2003-08-08</th>\n",
       "      <td>0.005451</td>\n",
       "      <td>0.018631</td>\n",
       "      <td>0.018791</td>\n",
       "    </tr>\n",
       "  </tbody>\n",
       "</table>\n",
       "</div>"
      ],
      "text/plain": [
       "                   A       AAL       AAP\n",
       "2003-08-05  0.000629  0.070000  0.012742\n",
       "2003-08-06 -0.021527  0.035493 -0.067340\n",
       "2003-08-07  0.044035 -0.025056  0.018986\n",
       "2003-08-08  0.005451  0.018631  0.018791"
      ]
     },
     "execution_count": 10,
     "metadata": {},
     "output_type": "execute_result"
    }
   ],
   "source": [
    "returns * np.diag(cov_matrix)"
   ]
  },
  {
   "cell_type": "code",
   "execution_count": 11,
   "metadata": {},
   "outputs": [
    {
     "data": {
      "text/html": [
       "<div>\n",
       "<style scoped>\n",
       "    .dataframe tbody tr th:only-of-type {\n",
       "        vertical-align: middle;\n",
       "    }\n",
       "\n",
       "    .dataframe tbody tr th {\n",
       "        vertical-align: top;\n",
       "    }\n",
       "\n",
       "    .dataframe thead th {\n",
       "        text-align: right;\n",
       "    }\n",
       "</style>\n",
       "<table border=\"1\" class=\"dataframe\">\n",
       "  <thead>\n",
       "    <tr style=\"text-align: right;\">\n",
       "      <th></th>\n",
       "      <th>A</th>\n",
       "      <th>AAL</th>\n",
       "      <th>AAP</th>\n",
       "    </tr>\n",
       "  </thead>\n",
       "  <tbody>\n",
       "    <tr>\n",
       "      <th>2003-08-05</th>\n",
       "      <td>0.027692</td>\n",
       "      <td>1.348724</td>\n",
       "      <td>0.234610</td>\n",
       "    </tr>\n",
       "    <tr>\n",
       "      <th>2003-08-06</th>\n",
       "      <td>-0.947287</td>\n",
       "      <td>0.683869</td>\n",
       "      <td>-1.239872</td>\n",
       "    </tr>\n",
       "    <tr>\n",
       "      <th>2003-08-07</th>\n",
       "      <td>1.937694</td>\n",
       "      <td>-0.482759</td>\n",
       "      <td>0.349573</td>\n",
       "    </tr>\n",
       "    <tr>\n",
       "      <th>2003-08-08</th>\n",
       "      <td>0.239852</td>\n",
       "      <td>0.358973</td>\n",
       "      <td>0.345987</td>\n",
       "    </tr>\n",
       "  </tbody>\n",
       "</table>\n",
       "</div>"
      ],
      "text/plain": [
       "                   A       AAL       AAP\n",
       "2003-08-05  0.027692  1.348724  0.234610\n",
       "2003-08-06 -0.947287  0.683869 -1.239872\n",
       "2003-08-07  1.937694 -0.482759  0.349573\n",
       "2003-08-08  0.239852  0.358973  0.345987"
      ]
     },
     "execution_count": 11,
     "metadata": {},
     "output_type": "execute_result"
    }
   ],
   "source": [
    "returns"
   ]
  },
  {
   "cell_type": "code",
   "execution_count": 12,
   "metadata": {},
   "outputs": [
    {
     "data": {
      "text/plain": [
       "array([-0.03159012,  0.55417766, -0.13332982, -0.12666475])"
      ]
     },
     "execution_count": 12,
     "metadata": {},
     "output_type": "execute_result"
    }
   ],
   "source": [
    "np.sum(np.dot(returns, cov_matrix), axis=1)"
   ]
  }
 ],
 "metadata": {
  "kernelspec": {
   "display_name": "Python 3",
   "language": "python",
   "name": "python3"
  },
  "language_info": {
   "codemirror_mode": {
    "name": "ipython",
    "version": 3
   },
   "file_extension": ".py",
   "mimetype": "text/x-python",
   "name": "python",
   "nbconvert_exporter": "python",
   "pygments_lexer": "ipython3",
   "version": "3.8.6"
  }
 },
 "nbformat": 4,
 "nbformat_minor": 2
}
